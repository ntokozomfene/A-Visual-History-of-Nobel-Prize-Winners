{
 "cells": [
  {
   "cell_type": "markdown",
   "metadata": {
    "colab_type": "text",
    "id": "3oj2kkJeLgXt"
   },
   "source": [
    "# Nobel prizes"
   ]
  },
  {
   "cell_type": "markdown",
   "metadata": {
    "colab_type": "text",
    "id": "JQ2z3hFyLgXu"
   },
   "source": [
    "## 1. Loading the data\n",
    "<p><img style=\"float: right;margin:5px 20px 5px 1px; max-width:250px\" src=\"https://s3.amazonaws.com/assets.datacamp.com/production/project_441/img/Nobel_Prize.png\"></p>\n",
    "<p>The Nobel Prize is perhaps the world's most well known scientific award. Except for the honor, prestige and substantial prize money the recipient also gets a gold medal showing Alfred Nobel (1833 - 1896) who established the prize. Every year it's given to scientists and scholars in the categories chemistry, literature, physics, physiology or medicine, economics, and peace. The first Nobel Prize was handed out in 1901, and at that time the Prize was very Eurocentric and male-focused, but nowadays it's not biased in any way whatsoever. Surely. Right?</p>\n",
    "<p>Well, we're going to find out! The Nobel Foundation has made a dataset available of all prize winners from the start of the prize, in 1901, to 2016. Let's load it in and take a look.</p>"
   ]
  },
  {
   "cell_type": "code",
   "execution_count": 2,
   "metadata": {
    "colab": {},
    "colab_type": "code",
    "id": "6n_NXUb6LgXv"
   },
   "outputs": [
    {
     "name": "stdout",
     "output_type": "stream",
     "text": [
      "     year    category                                              prize  \\\n",
      "0    1901   Chemistry                  The Nobel Prize in Chemistry 1901   \n",
      "1    1901  Literature                 The Nobel Prize in Literature 1901   \n",
      "2    1901    Medicine     The Nobel Prize in Physiology or Medicine 1901   \n",
      "3    1901       Peace                         The Nobel Peace Prize 1901   \n",
      "4    1901       Peace                         The Nobel Peace Prize 1901   \n",
      "5    1901     Physics                    The Nobel Prize in Physics 1901   \n",
      "6    1902   Chemistry                  The Nobel Prize in Chemistry 1902   \n",
      "7    1902  Literature                 The Nobel Prize in Literature 1902   \n",
      "8    1902    Medicine     The Nobel Prize in Physiology or Medicine 1902   \n",
      "9    1902       Peace                         The Nobel Peace Prize 1902   \n",
      "10   1902       Peace                         The Nobel Peace Prize 1902   \n",
      "11   1902     Physics                    The Nobel Prize in Physics 1902   \n",
      "12   1902     Physics                    The Nobel Prize in Physics 1902   \n",
      "13   1903   Chemistry                  The Nobel Prize in Chemistry 1903   \n",
      "14   1903  Literature                 The Nobel Prize in Literature 1903   \n",
      "15   1903    Medicine     The Nobel Prize in Physiology or Medicine 1903   \n",
      "16   1903       Peace                         The Nobel Peace Prize 1903   \n",
      "17   1903     Physics                    The Nobel Prize in Physics 1903   \n",
      "18   1903     Physics                    The Nobel Prize in Physics 1903   \n",
      "19   1903     Physics                    The Nobel Prize in Physics 1903   \n",
      "20   1904   Chemistry                  The Nobel Prize in Chemistry 1904   \n",
      "21   1904  Literature                 The Nobel Prize in Literature 1904   \n",
      "22   1904  Literature                 The Nobel Prize in Literature 1904   \n",
      "23   1904    Medicine     The Nobel Prize in Physiology or Medicine 1904   \n",
      "24   1904       Peace                         The Nobel Peace Prize 1904   \n",
      "25   1904     Physics                    The Nobel Prize in Physics 1904   \n",
      "26   1905   Chemistry                  The Nobel Prize in Chemistry 1905   \n",
      "27   1905  Literature                 The Nobel Prize in Literature 1905   \n",
      "28   1905    Medicine     The Nobel Prize in Physiology or Medicine 1905   \n",
      "29   1905       Peace                         The Nobel Peace Prize 1905   \n",
      "..    ...         ...                                                ...   \n",
      "881  2014    Medicine     The Nobel Prize in Physiology or Medicine 2014   \n",
      "882  2014    Medicine     The Nobel Prize in Physiology or Medicine 2014   \n",
      "883  2014    Medicine     The Nobel Prize in Physiology or Medicine 2014   \n",
      "884  2014       Peace                         The Nobel Peace Prize 2014   \n",
      "885  2014       Peace                         The Nobel Peace Prize 2014   \n",
      "886  2014     Physics                    The Nobel Prize in Physics 2014   \n",
      "887  2014     Physics                    The Nobel Prize in Physics 2014   \n",
      "888  2014     Physics                    The Nobel Prize in Physics 2014   \n",
      "889  2015   Chemistry                  The Nobel Prize in Chemistry 2015   \n",
      "890  2015   Chemistry                  The Nobel Prize in Chemistry 2015   \n",
      "891  2015   Chemistry                  The Nobel Prize in Chemistry 2015   \n",
      "892  2015   Economics  The Sveriges Riksbank Prize in Economic Scienc...   \n",
      "893  2015  Literature                 The Nobel Prize in Literature 2015   \n",
      "894  2015    Medicine     The Nobel Prize in Physiology or Medicine 2015   \n",
      "895  2015    Medicine     The Nobel Prize in Physiology or Medicine 2015   \n",
      "896  2015    Medicine     The Nobel Prize in Physiology or Medicine 2015   \n",
      "897  2015       Peace                         The Nobel Peace Prize 2015   \n",
      "898  2015     Physics                    The Nobel Prize in Physics 2015   \n",
      "899  2015     Physics                    The Nobel Prize in Physics 2015   \n",
      "900  2016   Chemistry                  The Nobel Prize in Chemistry 2016   \n",
      "901  2016   Chemistry                  The Nobel Prize in Chemistry 2016   \n",
      "902  2016   Chemistry                  The Nobel Prize in Chemistry 2016   \n",
      "903  2016   Economics  The Sveriges Riksbank Prize in Economic Scienc...   \n",
      "904  2016   Economics  The Sveriges Riksbank Prize in Economic Scienc...   \n",
      "905  2016  Literature                 The Nobel Prize in Literature 2016   \n",
      "906  2016    Medicine     The Nobel Prize in Physiology or Medicine 2016   \n",
      "907  2016       Peace                         The Nobel Peace Prize 2016   \n",
      "908  2016     Physics                    The Nobel Prize in Physics 2016   \n",
      "909  2016     Physics                    The Nobel Prize in Physics 2016   \n",
      "910  2016     Physics                    The Nobel Prize in Physics 2016   \n",
      "\n",
      "                                            motivation prize_share  \\\n",
      "0    \"in recognition of the extraordinary services ...         1/1   \n",
      "1    \"in special recognition of his poetic composit...         1/1   \n",
      "2    \"for his work on serum therapy, especially its...         1/1   \n",
      "3                                                  NaN         1/2   \n",
      "4                                                  NaN         1/2   \n",
      "5    \"in recognition of the extraordinary services ...         1/1   \n",
      "6    \"in recognition of the extraordinary services ...         1/1   \n",
      "7    \"the greatest living master of the art of hist...         1/1   \n",
      "8    \"for his work on malaria, by which he has show...         1/1   \n",
      "9                                                  NaN         1/2   \n",
      "10                                                 NaN         1/2   \n",
      "11   \"in recognition of the extraordinary service t...         1/2   \n",
      "12   \"in recognition of the extraordinary service t...         1/2   \n",
      "13   \"in recognition of the extraordinary services ...         1/1   \n",
      "14   \"as a tribute to his noble, magnificent and ve...         1/1   \n",
      "15   \"in recognition of his contribution to the tre...         1/1   \n",
      "16                                                 NaN         1/1   \n",
      "17   \"in recognition of the extraordinary services ...         1/2   \n",
      "18   \"in recognition of the extraordinary services ...         1/4   \n",
      "19   \"in recognition of the extraordinary services ...         1/4   \n",
      "20   \"in recognition of his services in the discove...         1/1   \n",
      "21   \"in recognition of the fresh originality and t...         1/2   \n",
      "22   \"in recognition of the numerous and brilliant ...         1/2   \n",
      "23   \"in recognition of his work on the physiology ...         1/1   \n",
      "24                                                 NaN         1/1   \n",
      "25   \"for his investigations of the densities of th...         1/1   \n",
      "26   \"in recognition of his services in the advance...         1/1   \n",
      "27   \"because of his outstanding merits as an epic ...         1/1   \n",
      "28   \"for his investigations and discoveries in rel...         1/1   \n",
      "29                                                 NaN         1/1   \n",
      "..                                                 ...         ...   \n",
      "881  \"for their discoveries of cells that constitut...         1/2   \n",
      "882  \"for their discoveries of cells that constitut...         1/4   \n",
      "883  \"for their discoveries of cells that constitut...         1/4   \n",
      "884  \"for their struggle against the suppression of...         1/2   \n",
      "885  \"for their struggle against the suppression of...         1/2   \n",
      "886  \"for the invention of efficient blue light-emi...         1/3   \n",
      "887  \"for the invention of efficient blue light-emi...         1/3   \n",
      "888  \"for the invention of efficient blue light-emi...         1/3   \n",
      "889            \"for mechanistic studies of DNA repair\"         1/3   \n",
      "890            \"for mechanistic studies of DNA repair\"         1/3   \n",
      "891            \"for mechanistic studies of DNA repair\"         1/3   \n",
      "892  \"for his analysis of consumption, poverty, and...         1/1   \n",
      "893  \"for her polyphonic writings, a monument to su...         1/1   \n",
      "894  \"for their discoveries concerning a novel ther...         1/4   \n",
      "895  \"for their discoveries concerning a novel ther...         1/4   \n",
      "896  \"for her discoveries concerning a novel therap...         1/2   \n",
      "897  \"for its decisive contribution to the building...         1/1   \n",
      "898  \"for the discovery of neutrino oscillations, w...         1/2   \n",
      "899  \"for the discovery of neutrino oscillations, w...         1/2   \n",
      "900  \"for the design and synthesis of molecular mac...         1/3   \n",
      "901  \"for the design and synthesis of molecular mac...         1/3   \n",
      "902  \"for the design and synthesis of molecular mac...         1/3   \n",
      "903       \"for their contributions to contract theory\"         1/2   \n",
      "904       \"for their contributions to contract theory\"         1/2   \n",
      "905  \"for having created new poetic expressions wit...         1/1   \n",
      "906  \"for his discoveries of mechanisms for autophagy\"         1/1   \n",
      "907  \"for his resolute efforts to bring the country...         1/1   \n",
      "908  \"for theoretical discoveries of topological ph...         1/2   \n",
      "909  \"for theoretical discoveries of topological ph...         1/4   \n",
      "910  \"for theoretical discoveries of topological ph...         1/4   \n",
      "\n",
      "     laureate_id laureate_type  \\\n",
      "0            160    Individual   \n",
      "1            569    Individual   \n",
      "2            293    Individual   \n",
      "3            462    Individual   \n",
      "4            463    Individual   \n",
      "5              1    Individual   \n",
      "6            161    Individual   \n",
      "7            571    Individual   \n",
      "8            294    Individual   \n",
      "9            464    Individual   \n",
      "10           465    Individual   \n",
      "11             2    Individual   \n",
      "12             3    Individual   \n",
      "13           162    Individual   \n",
      "14           572    Individual   \n",
      "15           295    Individual   \n",
      "16           466    Individual   \n",
      "17             4    Individual   \n",
      "18             5    Individual   \n",
      "19             6    Individual   \n",
      "20           163    Individual   \n",
      "21           573    Individual   \n",
      "22           574    Individual   \n",
      "23           296    Individual   \n",
      "24           467  Organization   \n",
      "25             8    Individual   \n",
      "26           164    Individual   \n",
      "27           575    Individual   \n",
      "28           297    Individual   \n",
      "29           468    Individual   \n",
      "..           ...           ...   \n",
      "881          903    Individual   \n",
      "882          904    Individual   \n",
      "883          905    Individual   \n",
      "884          913    Individual   \n",
      "885          914    Individual   \n",
      "886          906    Individual   \n",
      "887          907    Individual   \n",
      "888          908    Individual   \n",
      "889          921    Individual   \n",
      "890          922    Individual   \n",
      "891          923    Individual   \n",
      "892          926    Individual   \n",
      "893          924    Individual   \n",
      "894          916    Individual   \n",
      "895          917    Individual   \n",
      "896          918    Individual   \n",
      "897          925  Organization   \n",
      "898          919    Individual   \n",
      "899          920    Individual   \n",
      "900          931    Individual   \n",
      "901          932    Individual   \n",
      "902          933    Individual   \n",
      "903          935    Individual   \n",
      "904          936    Individual   \n",
      "905          937    Individual   \n",
      "906          927    Individual   \n",
      "907          934    Individual   \n",
      "908          928    Individual   \n",
      "909          929    Individual   \n",
      "910          930    Individual   \n",
      "\n",
      "                                             full_name  birth_date  \\\n",
      "0                         Jacobus Henricus van 't Hoff  1852-08-30   \n",
      "1                                      Sully Prudhomme  1839-03-16   \n",
      "2                               Emil Adolf von Behring  1854-03-15   \n",
      "3                                    Jean Henry Dunant  1828-05-08   \n",
      "4                                       Frédéric Passy  1822-05-20   \n",
      "5                               Wilhelm Conrad Röntgen  1845-03-27   \n",
      "6                                 Hermann Emil Fischer  1852-10-09   \n",
      "7                   Christian Matthias Theodor Mommsen  1817-11-30   \n",
      "8                                          Ronald Ross  1857-05-13   \n",
      "9                                        Élie Ducommun  1833-02-19   \n",
      "10                                Charles Albert Gobat  1843-05-21   \n",
      "11                              Hendrik Antoon Lorentz  1853-07-18   \n",
      "12                                       Pieter Zeeman  1865-05-25   \n",
      "13                             Svante August Arrhenius  1859-02-19   \n",
      "14                      Bjørnstjerne Martinus Bjørnson  1832-12-08   \n",
      "15                                 Niels Ryberg Finsen  1860-12-15   \n",
      "16                               William Randal Cremer  1828-03-18   \n",
      "17                             Antoine Henri Becquerel  1852-12-15   \n",
      "18                                        Pierre Curie  1859-05-15   \n",
      "19                         Marie Curie, née Sklodowska  1867-11-07   \n",
      "20                                  Sir William Ramsay  1852-10-02   \n",
      "21                                    Frédéric Mistral  1830-09-08   \n",
      "22                         José Echegaray y Eizaguirre  1832-04-19   \n",
      "23                               Ivan Petrovich Pavlov  1849-09-14   \n",
      "24   Institut de droit international (Institute of ...         NaN   \n",
      "25                 Lord Rayleigh (John William Strutt)  1842-11-12   \n",
      "26           Johann Friedrich Wilhelm Adolf von Baeyer  1835-10-31   \n",
      "27                                  Henryk Sienkiewicz  1846-05-05   \n",
      "28                                         Robert Koch  1843-12-11   \n",
      "29   Baroness Bertha Sophie Felicita von Suttner, n...  1843-06-09   \n",
      "..                                                 ...         ...   \n",
      "881                                       John O'Keefe  1939-11-18   \n",
      "882                                    May-Britt Moser  1963-01-04   \n",
      "883                                    Edvard I. Moser  1962-04-27   \n",
      "884                                  Kailash Satyarthi  1954-01-11   \n",
      "885                                   Malala Yousafzai  1997-07-12   \n",
      "886                                      Isamu Akasaki  1929-01-30   \n",
      "887                                      Hiroshi Amano  1960-09-11   \n",
      "888                                     Shuji Nakamura  1954-05-22   \n",
      "889                                      Tomas Lindahl  1938-01-28   \n",
      "890                                       Paul Modrich  1946-06-13   \n",
      "891                                        Aziz Sancar  1946-09-08   \n",
      "892                                       Angus Deaton  1945-10-19   \n",
      "893                                Svetlana Alexievich  1948-05-31   \n",
      "894                                William C. Campbell  1930-06-28   \n",
      "895                                      Satoshi Ōmura  1935-07-12   \n",
      "896                                          Youyou Tu  1930-12-30   \n",
      "897                          National Dialogue Quartet         NaN   \n",
      "898                                     Takaaki Kajita  1959-03-09   \n",
      "899                                 Arthur B. McDonald  1943-08-29   \n",
      "900                                Jean-Pierre Sauvage  1944-10-21   \n",
      "901                             Sir J. Fraser Stoddart  1942-05-24   \n",
      "902                                 Bernard L. Feringa  1951-05-18   \n",
      "903                                        Oliver Hart  1948-10-09   \n",
      "904                                    Bengt Holmström  1949-04-18   \n",
      "905                                          Bob Dylan  1941-05-24   \n",
      "906                                   Yoshinori Ohsumi  1945-02-09   \n",
      "907                                 Juan Manuel Santos  1951-08-10   \n",
      "908                                  David J. Thouless  1934-09-21   \n",
      "909                               F. Duncan M. Haldane  1951-09-14   \n",
      "910                              J. Michael Kosterlitz  1943-06-22   \n",
      "\n",
      "                           birth_city                     birth_country  \\\n",
      "0                           Rotterdam                       Netherlands   \n",
      "1                               Paris                            France   \n",
      "2                   Hansdorf (Lawice)                  Prussia (Poland)   \n",
      "3                              Geneva                       Switzerland   \n",
      "4                               Paris                            France   \n",
      "5                  Lennep (Remscheid)                 Prussia (Germany)   \n",
      "6                          Euskirchen                 Prussia (Germany)   \n",
      "7                             Garding               Schleswig (Germany)   \n",
      "8                              Almora                             India   \n",
      "9                              Geneva                       Switzerland   \n",
      "10                           Tramelan                       Switzerland   \n",
      "11                             Arnhem                       Netherlands   \n",
      "12                         Zonnemaire                       Netherlands   \n",
      "13                                Vik                            Sweden   \n",
      "14                             Kvikne                            Norway   \n",
      "15                          Thorshavn           Faroe Islands (Denmark)   \n",
      "16                            Fareham                    United Kingdom   \n",
      "17                              Paris                            France   \n",
      "18                              Paris                            France   \n",
      "19                             Warsaw           Russian Empire (Poland)   \n",
      "20                            Glasgow                          Scotland   \n",
      "21                           Maillane                            France   \n",
      "22                             Madrid                             Spain   \n",
      "23                             Ryazan                            Russia   \n",
      "24                                NaN                               NaN   \n",
      "25      Langford Grove, Maldon, Essex                    United Kingdom   \n",
      "26                             Berlin                 Prussia (Germany)   \n",
      "27                     Wola Okrzejska                            Poland   \n",
      "28   Clausthal (Clausthal-Zellerfeld)                           Germany   \n",
      "29                             Prague  Austrian Empire (Czech Republic)   \n",
      "..                                ...                               ...   \n",
      "881                      New York, NY          United States of America   \n",
      "882                          Fosnavåg                            Norway   \n",
      "883                           Ålesund                            Norway   \n",
      "884                           Vidisha                             India   \n",
      "885                           Mingora                          Pakistan   \n",
      "886                            Chiran                             Japan   \n",
      "887                         Hamamatsu                             Japan   \n",
      "888                             Ikata                             Japan   \n",
      "889                         Stockholm                            Sweden   \n",
      "890                         Raton, NM          United States of America   \n",
      "891                             Savur                            Turkey   \n",
      "892                         Edinburgh                    United Kingdom   \n",
      "893                   Ivano-Frankivsk                           Ukraine   \n",
      "894                          Ramelton                           Ireland   \n",
      "895              Yamanashi Prefecture                             Japan   \n",
      "896                   Zhejiang Ningbo                             China   \n",
      "897                               NaN                               NaN   \n",
      "898                  Higashimatsuyama                             Japan   \n",
      "899                            Sydney                            Canada   \n",
      "900                             Paris                            France   \n",
      "901                         Edinburgh                    United Kingdom   \n",
      "902                 Barger-Compascuum                       Netherlands   \n",
      "903                            London                    United Kingdom   \n",
      "904                          Helsinki                           Finland   \n",
      "905                        Duluth, MN          United States of America   \n",
      "906                           Fukuoka                             Japan   \n",
      "907                            Bogotá                          Colombia   \n",
      "908                          Bearsden                    United Kingdom   \n",
      "909                            London                    United Kingdom   \n",
      "910                          Aberdeen                    United Kingdom   \n",
      "\n",
      "        sex                                  organization_name  \\\n",
      "0      Male                                  Berlin University   \n",
      "1      Male                                                NaN   \n",
      "2      Male                                 Marburg University   \n",
      "3      Male                                                NaN   \n",
      "4      Male                                                NaN   \n",
      "5      Male                                  Munich University   \n",
      "6      Male                                  Berlin University   \n",
      "7      Male                                                NaN   \n",
      "8      Male                                 University College   \n",
      "9      Male                                                NaN   \n",
      "10     Male                                                NaN   \n",
      "11     Male                                  Leiden University   \n",
      "12     Male                               Amsterdam University   \n",
      "13     Male                               Stockholm University   \n",
      "14     Male                                                NaN   \n",
      "15     Male                     Finsen Medical Light Institute   \n",
      "16     Male                                                NaN   \n",
      "17     Male                                École Polytechnique   \n",
      "18     Male  École municipale de physique et de chimie indu...   \n",
      "19   Female                                                NaN   \n",
      "20     Male                                 University College   \n",
      "21     Male                                                NaN   \n",
      "22     Male                                                NaN   \n",
      "23     Male                           Military Medical Academy   \n",
      "24      NaN                                                NaN   \n",
      "25     Male                 Royal Institution of Great Britain   \n",
      "26     Male                                  Munich University   \n",
      "27     Male                                                NaN   \n",
      "28     Male                  Institute for Infectious Diseases   \n",
      "29   Female                                                NaN   \n",
      "..      ...                                                ...   \n",
      "881    Male                                 University College   \n",
      "882  Female  Norwegian University of Science and Technology...   \n",
      "883    Male  Norwegian University of Science and Technology...   \n",
      "884    Male                                                NaN   \n",
      "885  Female                                                NaN   \n",
      "886    Male                                   Meijo University   \n",
      "887    Male                                  Nagoya University   \n",
      "888    Male                           University of California   \n",
      "889    Male                            Francis Crick Institute   \n",
      "890    Male                    Howard Hughes Medical Institute   \n",
      "891    Male                       University of North Carolina   \n",
      "892    Male                               Princeton University   \n",
      "893  Female                                                NaN   \n",
      "894    Male                                    Drew University   \n",
      "895    Male                                Kitasato University   \n",
      "896  Female      China Academy of Traditional Chinese Medicine   \n",
      "897     NaN                                                NaN   \n",
      "898    Male                                University of Tokyo   \n",
      "899    Male                                 Queen's University   \n",
      "900    Male                           University of Strasbourg   \n",
      "901    Male                            Northwestern University   \n",
      "902    Male                            University of Groningen   \n",
      "903    Male                                 Harvard University   \n",
      "904    Male        Massachusetts Institute of Technology (MIT)   \n",
      "905    Male                                                NaN   \n",
      "906    Male                      Tokyo Institute of Technology   \n",
      "907    Male                                                NaN   \n",
      "908    Male                           University of Washington   \n",
      "909    Male                               Princeton University   \n",
      "910    Male                                   Brown University   \n",
      "\n",
      "     organization_city      organization_country  death_date      death_city  \\\n",
      "0               Berlin                   Germany  1911-03-01          Berlin   \n",
      "1                  NaN                       NaN  1907-09-07        Châtenay   \n",
      "2              Marburg                   Germany  1917-03-31         Marburg   \n",
      "3                  NaN                       NaN  1910-10-30          Heiden   \n",
      "4                  NaN                       NaN  1912-06-12           Paris   \n",
      "5               Munich                   Germany  1923-02-10          Munich   \n",
      "6               Berlin                   Germany  1919-07-15          Berlin   \n",
      "7                  NaN                       NaN  1903-11-01  Charlottenburg   \n",
      "8            Liverpool            United Kingdom  1932-09-16    Putney Heath   \n",
      "9                  NaN                       NaN  1906-12-07            Bern   \n",
      "10                 NaN                       NaN  1914-03-16            Bern   \n",
      "11              Leiden               Netherlands  1928-02-04             NaN   \n",
      "12           Amsterdam               Netherlands  1943-10-09       Amsterdam   \n",
      "13           Stockholm                    Sweden  1927-10-02       Stockholm   \n",
      "14                 NaN                       NaN  1910-04-26           Paris   \n",
      "15          Copenhagen                   Denmark  1904-09-24      Copenhagen   \n",
      "16                 NaN                       NaN  1908-07-22          London   \n",
      "17               Paris                    France  1908-08-25             NaN   \n",
      "18               Paris                    France  1906-04-19           Paris   \n",
      "19                 NaN                       NaN  1934-07-04      Sallanches   \n",
      "20              London            United Kingdom  1916-07-23    High Wycombe   \n",
      "21                 NaN                       NaN  1914-03-25        Maillane   \n",
      "22                 NaN                       NaN  1916-09-04          Madrid   \n",
      "23      St. Petersburg                    Russia  1936-02-27       Leningrad   \n",
      "24                 NaN                       NaN         NaN             NaN   \n",
      "25              London            United Kingdom  1919-06-30             NaN   \n",
      "26              Munich                   Germany  1917-08-20       Starnberg   \n",
      "27                 NaN                       NaN  1916-11-15           Vevey   \n",
      "28              Berlin                   Germany  1910-05-27     Baden-Baden   \n",
      "29                 NaN                       NaN  1914-06-21          Vienna   \n",
      "..                 ...                       ...         ...             ...   \n",
      "881             London            United Kingdom         NaN             NaN   \n",
      "882          Trondheim                    Norway         NaN             NaN   \n",
      "883          Trondheim                    Norway         NaN             NaN   \n",
      "884                NaN                       NaN         NaN             NaN   \n",
      "885                NaN                       NaN         NaN             NaN   \n",
      "886             Nagoya                     Japan         NaN             NaN   \n",
      "887             Nagoya                     Japan         NaN             NaN   \n",
      "888  Santa Barbara, CA  United States of America         NaN             NaN   \n",
      "889      Hertfordshire            United Kingdom         NaN             NaN   \n",
      "890         Durham, NC  United States of America         NaN             NaN   \n",
      "891    Chapel Hill, NC  United States of America         NaN             NaN   \n",
      "892      Princeton, NJ  United States of America         NaN             NaN   \n",
      "893                NaN                       NaN         NaN             NaN   \n",
      "894        Madison, NJ  United States of America         NaN             NaN   \n",
      "895              Tokyo                     Japan         NaN             NaN   \n",
      "896            Beijing                     China         NaN             NaN   \n",
      "897                NaN                       NaN         NaN             NaN   \n",
      "898            Kashiwa                     Japan         NaN             NaN   \n",
      "899           Kingston                    Canada         NaN             NaN   \n",
      "900         Strasbourg                    France         NaN             NaN   \n",
      "901       Evanston, IL  United States of America         NaN             NaN   \n",
      "902          Groningen               Netherlands         NaN             NaN   \n",
      "903      Cambridge, MA  United States of America         NaN             NaN   \n",
      "904      Cambridge, MA  United States of America         NaN             NaN   \n",
      "905                NaN                       NaN         NaN             NaN   \n",
      "906              Tokyo                     Japan         NaN             NaN   \n",
      "907                NaN                       NaN         NaN             NaN   \n",
      "908        Seattle, WA  United States of America         NaN             NaN   \n",
      "909      Princeton, NJ  United States of America         NaN             NaN   \n",
      "910     Providence, RI  United States of America         NaN             NaN   \n",
      "\n",
      "      death_country  \n",
      "0           Germany  \n",
      "1            France  \n",
      "2           Germany  \n",
      "3       Switzerland  \n",
      "4            France  \n",
      "5           Germany  \n",
      "6           Germany  \n",
      "7           Germany  \n",
      "8    United Kingdom  \n",
      "9       Switzerland  \n",
      "10      Switzerland  \n",
      "11      Netherlands  \n",
      "12      Netherlands  \n",
      "13           Sweden  \n",
      "14           France  \n",
      "15          Denmark  \n",
      "16   United Kingdom  \n",
      "17           France  \n",
      "18           France  \n",
      "19           France  \n",
      "20   United Kingdom  \n",
      "21           France  \n",
      "22            Spain  \n",
      "23           Russia  \n",
      "24              NaN  \n",
      "25   United Kingdom  \n",
      "26          Germany  \n",
      "27      Switzerland  \n",
      "28          Germany  \n",
      "29          Austria  \n",
      "..              ...  \n",
      "881             NaN  \n",
      "882             NaN  \n",
      "883             NaN  \n",
      "884             NaN  \n",
      "885             NaN  \n",
      "886             NaN  \n",
      "887             NaN  \n",
      "888             NaN  \n",
      "889             NaN  \n",
      "890             NaN  \n",
      "891             NaN  \n",
      "892             NaN  \n",
      "893             NaN  \n",
      "894             NaN  \n",
      "895             NaN  \n",
      "896             NaN  \n",
      "897             NaN  \n",
      "898             NaN  \n",
      "899             NaN  \n",
      "900             NaN  \n",
      "901             NaN  \n",
      "902             NaN  \n",
      "903             NaN  \n",
      "904             NaN  \n",
      "905             NaN  \n",
      "906             NaN  \n",
      "907             NaN  \n",
      "908             NaN  \n",
      "909             NaN  \n",
      "910             NaN  \n",
      "\n",
      "[911 rows x 18 columns]\n"
     ]
    }
   ],
   "source": [
    "# Loading in required libraries: you will need pandas, seaborn and numpy\n",
    "import numpy as np\n",
    "import matplotlib.pyplot as plt\n",
    "import seaborn as sns\n",
    "import pandas as pd\n",
    "\n",
    "\n",
    "# Reading in the Nobel Prize data\n",
    "nobel = pd.read_csv(\"datasets/nobel.csv\")\n",
    "\n",
    "# Explore the data - are there missing values? How many entries do we have?\n",
    "print(nobel)\n",
    "\n"
   ]
  },
  {
   "cell_type": "markdown",
   "metadata": {},
   "source": []
  },
  {
   "cell_type": "markdown",
   "metadata": {
    "colab_type": "text",
    "id": "8iWouA3lLgXy"
   },
   "source": [
    "## 2. So, who gets the Nobel Prize?\n",
    "<p>Just looking at the first couple of prize winners, or Nobel laureates as they are also called, we already see a celebrity: Wilhelm Conrad Röntgen, the guy who discovered X-rays. And actually, we see that all of the winners in 1901 were guys that came from Europe. But that was back in 1901, looking at all winners in the dataset, from 1901 to 2016, which sex and which country is the most commonly represented? </p>\n",
    "<p>(For <em>country</em>, we will use the <code>birth_country</code> of the winner, as the <code>organization_country</code> is <code>NaN</code> for all shared Nobel Prizes.)</p>"
   ]
  },
  {
   "cell_type": "code",
   "execution_count": 18,
   "metadata": {
    "colab": {},
    "colab_type": "code",
    "id": "mAPuUU4OLgXz"
   },
   "outputs": [
    {
     "name": "stdout",
     "output_type": "stream",
     "text": [
      "244\n",
      "Male      836\n",
      "Female     49\n",
      "Name: sex, dtype: int64\n",
      "United States of America    259\n",
      "United Kingdom               85\n",
      "Germany                      61\n",
      "France                       51\n",
      "Sweden                       29\n",
      "Japan                        24\n",
      "Netherlands                  18\n",
      "Canada                       18\n",
      "Russia                       17\n",
      "Italy                        17\n",
      "Name: birth_country, dtype: int64\n"
     ]
    }
   ],
   "source": [
    "# Display the number of (possibly shared) Nobel Prizes handed\n",
    "# out between 1901 and 2016\n",
    "shared = nobel[nobel.organization_country.isnull()]\n",
    "print(shared.year.count())\n",
    "\n",
    "\n",
    "# Display the number of prizes won by male and female recipients.\n",
    "# ... YOUR CODE FOR TASK 2 ...\n",
    "print(nobel[\"sex\"].value_counts())\n",
    "# Display the number of prizes won by the top 10 nationalities.\n",
    "print(nobel[\"birth_country\"].value_counts().head(10))"
   ]
  },
  {
   "cell_type": "markdown",
   "metadata": {
    "colab_type": "text",
    "id": "HTA6zz6ILgX1"
   },
   "source": [
    "Which countries win most often?"
   ]
  },
  {
   "cell_type": "markdown",
   "metadata": {
    "colab_type": "text",
    "id": "plyn3XAXLgX2"
   },
   "source": [
    "## 3. USA dominance\n",
    "<p>Not so surprising perhaps: the most common Nobel laureate between 1901 and 2016 was a man born in the United States of America. But in 1901 all the winners were European. When did the USA start to dominate the Nobel Prize charts?</p>\n",
    "    "
   ]
  },
  {
   "cell_type": "code",
   "execution_count": 2,
   "metadata": {},
   "outputs": [
    {
     "ename": "NameError",
     "evalue": "name 'pd' is not defined",
     "output_type": "error",
     "traceback": [
      "\u001b[1;31m---------------------------------------------------------------------------\u001b[0m",
      "\u001b[1;31mNameError\u001b[0m                                 Traceback (most recent call last)",
      "\u001b[1;32m<ipython-input-2-5165968d5977>\u001b[0m in \u001b[0;36m<module>\u001b[1;34m\u001b[0m\n\u001b[1;32m----> 1\u001b[1;33m \u001b[0mnobel\u001b[0m \u001b[1;33m=\u001b[0m \u001b[0mpd\u001b[0m\u001b[1;33m.\u001b[0m\u001b[0mread_csv\u001b[0m\u001b[1;33m(\u001b[0m\u001b[1;34m\"datasets/nobel.csv\"\u001b[0m\u001b[1;33m)\u001b[0m\u001b[1;33m\u001b[0m\u001b[1;33m\u001b[0m\u001b[0m\n\u001b[0m\u001b[0;32m      2\u001b[0m \u001b[0mnobel\u001b[0m\u001b[1;33m[\u001b[0m\u001b[1;34m'birth_country'\u001b[0m\u001b[1;33m]\u001b[0m\u001b[1;33m.\u001b[0m\u001b[0munique\u001b[0m\u001b[1;33m(\u001b[0m\u001b[1;33m)\u001b[0m\u001b[1;33m\u001b[0m\u001b[1;33m\u001b[0m\u001b[0m\n\u001b[0;32m      3\u001b[0m \u001b[0mnobel\u001b[0m\u001b[1;33m.\u001b[0m\u001b[0minfo\u001b[0m\u001b[1;33m(\u001b[0m\u001b[1;33m)\u001b[0m\u001b[1;33m\u001b[0m\u001b[1;33m\u001b[0m\u001b[0m\n",
      "\u001b[1;31mNameError\u001b[0m: name 'pd' is not defined"
     ]
    }
   ],
   "source": [
    "nobel['birth_country'].unique()\n",
    "nobel.info()"
   ]
  },
  {
   "cell_type": "code",
   "execution_count": 44,
   "metadata": {
    "colab": {},
    "colab_type": "code",
    "id": "pyr8QN8ELgX2",
    "outputId": "7d9341e1-4f79-43b3-c31d-703fc2a78d88"
   },
   "outputs": [
    {
     "name": "stdout",
     "output_type": "stream",
     "text": [
      "0                           Netherlands\n",
      "1                                France\n",
      "2                      Prussia (Poland)\n",
      "3                           Switzerland\n",
      "4                                France\n",
      "5                     Prussia (Germany)\n",
      "6                     Prussia (Germany)\n",
      "7                   Schleswig (Germany)\n",
      "8                                 India\n",
      "9                           Switzerland\n",
      "10                          Switzerland\n",
      "11                          Netherlands\n",
      "12                          Netherlands\n",
      "13                               Sweden\n",
      "14                               Norway\n",
      "15              Faroe Islands (Denmark)\n",
      "16                       United Kingdom\n",
      "17                               France\n",
      "18                               France\n",
      "19              Russian Empire (Poland)\n",
      "20                             Scotland\n",
      "21                               France\n",
      "22                                Spain\n",
      "23                               Russia\n",
      "24                                  NaN\n",
      "25                       United Kingdom\n",
      "26                    Prussia (Germany)\n",
      "27                               Poland\n",
      "28                              Germany\n",
      "29     Austrian Empire (Czech Republic)\n",
      "                     ...               \n",
      "881            United States of America\n",
      "882                              Norway\n",
      "883                              Norway\n",
      "884                               India\n",
      "885                            Pakistan\n",
      "886                               Japan\n",
      "887                               Japan\n",
      "888                               Japan\n",
      "889                              Sweden\n",
      "890            United States of America\n",
      "891                              Turkey\n",
      "892                      United Kingdom\n",
      "893                             Ukraine\n",
      "894                             Ireland\n",
      "895                               Japan\n",
      "896                               China\n",
      "897                                 NaN\n",
      "898                               Japan\n",
      "899                              Canada\n",
      "900                              France\n",
      "901                      United Kingdom\n",
      "902                         Netherlands\n",
      "903                      United Kingdom\n",
      "904                             Finland\n",
      "905            United States of America\n",
      "906                               Japan\n",
      "907                            Colombia\n",
      "908                      United Kingdom\n",
      "909                      United Kingdom\n",
      "910                      United Kingdom\n",
      "Name: birth_country, Length: 911, dtype: object\n"
     ]
    }
   ],
   "source": [
    "# Calculating the proportion of USA born winners per decade\n",
    "nobel['usa_born_winner'] = nobel['birth_country'].unique('United State of America')\n",
    "nobel['decade'] = ...\n",
    "prop_usa_winners = ...\n",
    "\n",
    "# Display the proportions of USA born winners per decade\n",
    "# ... YOUR CODE FOR TASK 3 ...\n",
    "print(nobel['birth_country'])"
   ]
  },
  {
   "cell_type": "markdown",
   "metadata": {
    "colab_type": "text",
    "id": "qJWECeNSLgX8"
   },
   "source": [
    "## 4. USA dominance, visualized\n",
    "<p>A table is OK, but to <em>see</em> when the USA started to dominate the Nobel charts we need a plot!</p>"
   ]
  },
  {
   "cell_type": "code",
   "execution_count": 0,
   "metadata": {
    "colab": {},
    "colab_type": "code",
    "id": "BG1IzfHULgX9"
   },
   "outputs": [],
   "source": [
    "#using seaborn, plot the proportion of US winners by decade"
   ]
  },
  {
   "cell_type": "markdown",
   "metadata": {
    "colab_type": "text",
    "id": "K0yrBrqzLgX_"
   },
   "source": [
    "What can you conclude from the graph?"
   ]
  },
  {
   "cell_type": "markdown",
   "metadata": {
    "colab_type": "text",
    "id": "lNmRYEqLLgYA"
   },
   "source": [
    "## 5. What is the gender of a typical Nobel Prize winner?\n",
    "<p>So the USA became the dominating winner of the Nobel Prize first in the 1930s and had kept the leading position ever since. But one group that was in the lead from the start, and never seems to let go, are <em>men</em>. Maybe it shouldn't come as a shock that there is some imbalance between how many male and female prize winners there are, but how significant is this imbalance? And is it better or worse within specific prize categories like physics, medicine, literature, etc.?</p>"
   ]
  },
  {
   "cell_type": "code",
   "execution_count": 0,
   "metadata": {
    "colab": {},
    "colab_type": "code",
    "id": "Os3hu3BGLgYB",
    "outputId": "1b524b18-0edb-491a-cef9-0adc2be1d37b"
   },
   "outputs": [
    {
     "ename": "NameError",
     "evalue": "name 'nobel' is not defined",
     "output_type": "error",
     "traceback": [
      "\u001b[1;31m---------------------------------------------------------------------------\u001b[0m",
      "\u001b[1;31mNameError\u001b[0m                                 Traceback (most recent call last)",
      "\u001b[1;32m<ipython-input-5-56bbad103273>\u001b[0m in \u001b[0;36m<module>\u001b[1;34m\u001b[0m\n\u001b[0;32m      1\u001b[0m \u001b[1;31m# Calculating the proportion of female laureates per decade\u001b[0m\u001b[1;33m\u001b[0m\u001b[1;33m\u001b[0m\u001b[1;33m\u001b[0m\u001b[0m\n\u001b[1;32m----> 2\u001b[1;33m \u001b[0mnobel\u001b[0m\u001b[1;33m[\u001b[0m\u001b[1;34m'female_winner'\u001b[0m\u001b[1;33m]\u001b[0m \u001b[1;33m=\u001b[0m \u001b[1;33m...\u001b[0m\u001b[1;33m\u001b[0m\u001b[1;33m\u001b[0m\u001b[0m\n\u001b[0m\u001b[0;32m      3\u001b[0m \u001b[0mprop_female_winners\u001b[0m \u001b[1;33m=\u001b[0m \u001b[1;33m...\u001b[0m\u001b[1;33m\u001b[0m\u001b[1;33m\u001b[0m\u001b[0m\n\u001b[0;32m      4\u001b[0m \u001b[1;33m\u001b[0m\u001b[0m\n\u001b[0;32m      5\u001b[0m \u001b[1;31m# Plotting proportion of female winners by decade, grouped by prize category (physics, medicine, etc)\u001b[0m\u001b[1;33m\u001b[0m\u001b[1;33m\u001b[0m\u001b[1;33m\u001b[0m\u001b[0m\n",
      "\u001b[1;31mNameError\u001b[0m: name 'nobel' is not defined"
     ]
    }
   ],
   "source": [
    "# Calculating the proportion of female laureates per decade\n",
    "nobel['female_winner'] = ...\n",
    "prop_female_winners = ...\n",
    "\n",
    "# Plot proportion of female winners by decade, grouped by prize category (physics, medicine, etc)\n",
    "# ... YOUR CODE FOR TASK 5 ..."
   ]
  },
  {
   "cell_type": "markdown",
   "metadata": {
    "colab_type": "text",
    "id": "3n8uKBeQLgYE"
   },
   "source": [
    "\n",
    "\n",
    "```\n",
    "# This is formatted as code\n",
    "```\n",
    "\n",
    " Interpret your plot here"
   ]
  },
  {
   "cell_type": "markdown",
   "metadata": {
    "colab_type": "text",
    "id": "bECCDRHOLgYF"
   },
   "source": [
    "## 6. The first woman to win the Nobel Prize\n",
    "<p>The plot above is a bit messy as the lines are overplotting. But it does show some interesting trends and patterns. Overall the imbalance is pretty large with physics, economics, and chemistry having the largest imbalance. Medicine has a somewhat positive trend, and since the 1990s the literature prize is also now more balanced. The big outlier is the peace prize during the 2010s, but keep in mind that this just covers the years 2010 to 2016.</p>\n",
    "<p>Given this imbalance, who was the first woman to receive a Nobel Prize? And in what category?</p>\n"
   ]
  },
  {
   "cell_type": "code",
   "execution_count": 0,
   "metadata": {
    "colab": {},
    "colab_type": "code",
    "id": "fr17tW7kLgYG"
   },
   "outputs": [],
   "source": [
    "# Picking out the first woman to win a Nobel Prize\n",
    "# ... YOUR CODE FOR TASK 6 ..."
   ]
  },
  {
   "cell_type": "markdown",
   "metadata": {
    "colab_type": "text",
    "id": "HnHekZkQLgYJ"
   },
   "source": [
    "## 7. Repeat laureates\n",
    "<p>For most scientists/writers/activists a Nobel Prize would be the crowning achievement of a long career. But for some people, one is just not enough, and few have gotten it more than once. Who are these lucky few? (Having won no Nobel Prize myself, I'll assume it's just about luck.)</p>"
   ]
  },
  {
   "cell_type": "code",
   "execution_count": 0,
   "metadata": {
    "colab": {},
    "colab_type": "code",
    "id": "0unfnOb7LgYM"
   },
   "outputs": [],
   "source": [
    "# Selecting the laureates that have received 2 or more prizes.\n",
    "# ... YOUR CODE FOR TASK 7 ..."
   ]
  },
  {
   "cell_type": "markdown",
   "metadata": {
    "colab_type": "text",
    "id": "Q_o5qBesLgYT"
   },
   "source": [
    "\n",
    "\n",
    "\n",
    "How many people have received 2 or more prizes?"
   ]
  },
  {
   "cell_type": "markdown",
   "metadata": {
    "colab_type": "text",
    "id": "LQ3gth_3LgYT"
   },
   "source": [
    "## 8. How old are you when you get the prize?\n",
    "<p>The list of repeat winners contains some illustrious names! We again meet Marie Curie, who got the prize in physics for discovering radiation and in chemistry for isolating radium and polonium. John Bardeen got it twice in physics for transistors and superconductivity, Frederick Sanger got it twice in chemistry, and Linus Carl Pauling got it first in chemistry and later in peace for his work in promoting nuclear disarmament. We also learn that organizations also get the prize as both the Red Cross and the UNHCR have gotten it twice.</p>\n",
    "<p>But how old are you generally when you get the prize?</p>"
   ]
  },
  {
   "cell_type": "code",
   "execution_count": 0,
   "metadata": {
    "colab": {},
    "colab_type": "code",
    "id": "kahpyBNzLgYU"
   },
   "outputs": [],
   "source": [
    "# Converting birth_date from String to datetime\n",
    "nobel['birth_date'] = ...\n",
    "\n",
    "# Calculating the age of Nobel Prize winners\n",
    "nobel['age'] = ...\n",
    "\n",
    "# What is the mean age of winners and it's standard devation? What is the median age?"
   ]
  },
  {
   "cell_type": "markdown",
   "metadata": {
    "colab_type": "text",
    "id": "JRO7eu1jLgYX"
   },
   "source": [
    "## 9. Age differences between prize categories\n"
   ]
  },
  {
   "cell_type": "code",
   "execution_count": 0,
   "metadata": {
    "colab": {},
    "colab_type": "code",
    "id": "X7X2waCALgYY"
   },
   "outputs": [],
   "source": [
    "#Plot the age of nobel candidates by decade\n",
    "#YOUR CODE FOR TASK 9 ...\n",
    "\n",
    "# Plot the age of nobel candidates by decade and prize category"
   ]
  },
  {
   "cell_type": "markdown",
   "metadata": {
    "colab_type": "text",
    "id": "CmDtQ5msLgYd"
   },
   "source": [
    "What can you conclude about the age at which people win different types of Nobel Prizes?"
   ]
  },
  {
   "cell_type": "markdown",
   "metadata": {
    "colab_type": "text",
    "id": "JT1wmBWRLgYf"
   },
   "source": [
    "## 10. Oldest and youngest winners\n",
    "<p>In the peace category there is a winner around 2010 that seems exceptionally young. This begs the questions, who are the oldest and youngest people ever to have won a Nobel Prize?</p>"
   ]
  },
  {
   "cell_type": "markdown",
   "metadata": {
    "colab_type": "text",
    "id": "6BStEi3JLgYg"
   },
   "source": [
    "## Congratulations! You've reached the end of the challenge!"
   ]
  }
 ],
 "metadata": {
  "colab": {
   "name": "nobelprizewinners.ipynb",
   "provenance": [],
   "version": "0.3.2"
  },
  "kernelspec": {
   "display_name": "Python 3",
   "language": "python",
   "name": "python3"
  },
  "language_info": {
   "codemirror_mode": {
    "name": "ipython",
    "version": 3
   },
   "file_extension": ".py",
   "mimetype": "text/x-python",
   "name": "python",
   "nbconvert_exporter": "python",
   "pygments_lexer": "ipython3",
   "version": "3.7.3"
  }
 },
 "nbformat": 4,
 "nbformat_minor": 1
}
